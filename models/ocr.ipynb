{
 "cells": [
  {
   "cell_type": "code",
   "execution_count": 1,
   "id": "88021f60-4b76-4b67-b8f9-2c58564df117",
   "metadata": {},
   "outputs": [],
   "source": [
    "from ultralytics import YOLO\n",
    "import easyocr\n",
    "import cv2"
   ]
  },
  {
   "cell_type": "code",
   "execution_count": 2,
   "id": "f0215831-e8ca-4399-be19-ff9ece095f03",
   "metadata": {},
   "outputs": [],
   "source": [
    "# Load the trained YOLO model\n",
    "model = YOLO(\"runs/detect/train13/weights/best.pt\")"
   ]
  },
  {
   "cell_type": "code",
   "execution_count": 3,
   "id": "62d5715f-f21c-477b-aae7-8488eabb8bf9",
   "metadata": {
    "scrolled": true
   },
   "outputs": [
    {
     "name": "stderr",
     "output_type": "stream",
     "text": [
      "Neither CUDA nor MPS are available - defaulting to CPU. Note: This module is much faster with a GPU.\n"
     ]
    }
   ],
   "source": [
    "# Load EasyOCR Reader\n",
    "reader = easyocr.Reader(['en'])  # Initialize EasyOCR with English language"
   ]
  },
  {
   "cell_type": "code",
   "execution_count": 4,
   "id": "013bc879-c4bc-402a-976a-69476051755b",
   "metadata": {
    "scrolled": true
   },
   "outputs": [
    {
     "name": "stdout",
     "output_type": "stream",
     "text": [
      "\n",
      "image 1/1 C:\\Users\\gyane\\Desktop\\Infosys_Intern\\dt_model\\6.jpg: 640x512 2 names, 2 uids, 2 addresss, 144.3ms\n",
      "Speed: 8.0ms preprocess, 144.3ms inference, 12.5ms postprocess per image at shape (1, 3, 640, 512)\n"
     ]
    }
   ],
   "source": [
    "# Predict with YOLO\n",
    "image_path = \"6.jpg\"  # replace with your image path\n",
    "results = model(image_path)  # Detect fields using YOLO"
   ]
  },
  {
   "cell_type": "code",
   "execution_count": 5,
   "id": "56fafde3-cb60-4858-9039-6dc0ff72db7a",
   "metadata": {},
   "outputs": [],
   "source": [
    "# Load the original image\n",
    "image = cv2.imread(image_path)\n",
    "\n",
    "# Dictionary to store extracted fields\n",
    "extracted_data = {}"
   ]
  },
  {
   "cell_type": "code",
   "execution_count": 6,
   "id": "ad60f9a3-7e05-4818-ac94-abc0f12e18b4",
   "metadata": {},
   "outputs": [],
   "source": [
    "# Iterate through detections\n",
    "for result in results[0].boxes.data.tolist():  # results[0].boxes.data contains bounding box details\n",
    "    x1, y1, x2, y2, confidence, class_id = map(int, result[:6])\n",
    "    field_class = model.names[class_id]  # Get class name (e.g., 'Name', 'UID', 'Address')\n",
    "\n",
    "    # Crop the detected region\n",
    "    cropped_roi = image[y1:y2, x1:x2]\n",
    "\n",
    "    # Convert cropped ROI to grayscale for OCR\n",
    "    gray_roi = cv2.cvtColor(cropped_roi, cv2.COLOR_BGR2GRAY)\n",
    "\n",
    "    # Use EasyOCR to extract text\n",
    "    text = reader.readtext(gray_roi, detail=0)  # detail=0 returns only the text\n",
    "\n",
    "    # Save the text to the extracted_data dictionary\n",
    "    extracted_data[field_class] = ' '.join(text)  # Combine detected text if multiple lines\n"
   ]
  },
  {
   "cell_type": "code",
   "execution_count": 7,
   "id": "5d5605b7-7b78-450a-bc79-99fadce5b591",
   "metadata": {
    "scrolled": true
   },
   "outputs": [
    {
     "name": "stdout",
     "output_type": "stream",
     "text": [
      "Extracted Data: {'address': 'Flat No 09 New Shree Krupa CHS Pandit Dindayal Road Dombivli west Opp Abhyudaya Bank Kalyan Vishnunagar Thane Maharashtra 421202', 'uid': '6502 5413 0425', 'name': 'Nikunj Rajnikant Bhinde'}\n"
     ]
    }
   ],
   "source": [
    "# Print the extracted fields\n",
    "print(\"Extracted Data:\", extracted_data)"
   ]
  },
  {
   "cell_type": "code",
   "execution_count": 9,
   "id": "45e1ba2f-00df-4bbc-ab9f-6bf6d98a875d",
   "metadata": {},
   "outputs": [
    {
     "ename": "SyntaxError",
     "evalue": "invalid syntax (4187808060.py, line 1)",
     "output_type": "error",
     "traceback": [
      "\u001b[1;36m  Cell \u001b[1;32mIn[9], line 1\u001b[1;36m\u001b[0m\n\u001b[1;33m    Extracted Name : Nikunj Rajnikant Bhinde\u001b[0m\n\u001b[1;37m              ^\u001b[0m\n\u001b[1;31mSyntaxError\u001b[0m\u001b[1;31m:\u001b[0m invalid syntax\n"
     ]
    }
   ],
   "source": [
    "Extracted Name : Nikunj Rajnikant Bhinde\n",
    "Existing Name : Nikoonj Bhinde\n",
    "\n",
    "False\n",
    "\n",
    "Extracted Name : Nikunj Rajnikant Bhinde\n",
    "Existing Name : Nikunj Bhinde\n",
    "\n",
    "True\n",
    "\n",
    "Extracted Name : Nikunj Rajnikant Bhinde\n",
    "Existing Name : B Nikoonj\n",
    "\n",
    "True"
   ]
  }
 ],
 "metadata": {
  "kernelspec": {
   "display_name": "Python 3 (ipykernel)",
   "language": "python",
   "name": "python3"
  },
  "language_info": {
   "codemirror_mode": {
    "name": "ipython",
    "version": 3
   },
   "file_extension": ".py",
   "mimetype": "text/x-python",
   "name": "python",
   "nbconvert_exporter": "python",
   "pygments_lexer": "ipython3",
   "version": "3.11.10"
  }
 },
 "nbformat": 4,
 "nbformat_minor": 5
}
